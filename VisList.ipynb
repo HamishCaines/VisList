{
 "cells": [
  {
   "cell_type": "markdown",
   "metadata": {},
   "source": [
    "# VisList\n",
    "#### Calculates visibility of a target from a given location over a set time window. Also considers the length of time target is visible for\n",
    "#### Requries two files, one of locations, and one of targets, see example files supplied for formats, 'locations' and 'testfile'\n",
    "#### Set target filename below, must be .in file, returns .out file of same name"
   ]
  },
  {
   "cell_type": "code",
   "execution_count": 1,
   "metadata": {},
   "outputs": [],
   "source": [
    "target_file = 'testfile'"
   ]
  },
  {
   "cell_type": "code",
   "execution_count": 2,
   "metadata": {},
   "outputs": [],
   "source": [
    "import numpy as np\n",
    "from PyAstronomy import pyasl\n",
    "import matplotlib.pyplot as plt\n",
    "import datetime as dt\n",
    "from astropy.coordinates import SkyCoord\n",
    "import json"
   ]
  },
  {
   "cell_type": "markdown",
   "metadata": {},
   "source": [
    "#### Create target object"
   ]
  },
  {
   "cell_type": "code",
   "execution_count": 3,
   "metadata": {},
   "outputs": [],
   "source": [
    "#define target object\n",
    "class Target:\n",
    "    def __init__(self, target_name, obs_date, coordinates, obs_window, obs_duration):\n",
    "        \"\"\"Creates a target object from specified parameters\n",
    "        :param target_name: target identifier\n",
    "        :param obs_date: start of observation window\n",
    "        :param coordinates: RA and Dec of target in SkyCoord object\n",
    "        :param obs_window: length of observing window in days\n",
    "        :param obs_duration: required amount of visible time for an observation in minutes\n",
    "        \"\"\"\n",
    "        self.name = target_name\n",
    "        self.date = obs_date\n",
    "        self.coord = coordinates\n",
    "        self.window = obs_window #number of days from date\n",
    "        self.duration = int(obs_duration) #time visible in a night\n",
    "    "
   ]
  },
  {
   "cell_type": "markdown",
   "metadata": {},
   "source": [
    "#### Create location object"
   ]
  },
  {
   "cell_type": "code",
   "execution_count": 4,
   "metadata": {},
   "outputs": [],
   "source": [
    "#define location object\n",
    "class Location:\n",
    "    def __init__(self, loc_name, latitude, longitude, loc_altitude, minimum_targ_alt, timezone):\n",
    "        \"\"\"Creates a location object from the specified parameters\n",
    "        :param loc_name: observatory name\n",
    "        :param latitude: observatory latitude\n",
    "        :param longitude: observatory longitude\n",
    "        :param loc_altitude: observatory altitude in m\n",
    "        :param minimum_targ_alt: minimum altitude above horizon for observation in decimal deg\n",
    "        :param timezone: UTC offset in hours X.X\n",
    "        \"\"\"\n",
    "        self.loc = loc_name\n",
    "        self.lati = float(latitude)\n",
    "        self.long = float(longitude)\n",
    "        self.alti = float(loc_altitude)\n",
    "        self.targ_alt = minimum_targ_alt\n",
    "        self.zone = float(timezone)"
   ]
  },
  {
   "cell_type": "markdown",
   "metadata": {},
   "source": [
    "#### Load in location list from location file"
   ]
  },
  {
   "cell_type": "code",
   "execution_count": 5,
   "metadata": {},
   "outputs": [],
   "source": [
    "locations=[] #list of observatories\n",
    "keys=[] #observatory keys\n",
    "locfilename = 'locations.dat' #location file\n",
    "file = open(locfilename,'r')\n",
    "\n",
    "#read file one line at a time, extract data from each\n",
    "for line in file:\n",
    "    if line[0] != '!': #check for comments\n",
    "        tokens = []\n",
    "        split = line.split()\n",
    "        \n",
    "        #extract information from line\n",
    "        for token in split:\n",
    "            tokens.append(token) \n",
    "        loc = tokens[0]\n",
    "        lat = tokens[1]\n",
    "        lon = tokens[2]\n",
    "        alt = tokens[3]\n",
    "        minimum = float(tokens[4])\n",
    "        tzone = tokens[5]\n",
    "        \n",
    "        if tokens[0] not in keys: #check if location is already in list, only add if new\n",
    "            keys.append(tokens[0]) \n",
    "            newloc = Location(loc, lat, lon, alt, minimum, tzone) #initialise location object\n",
    "            locations.append(newloc) #add to list"
   ]
  },
  {
   "cell_type": "markdown",
   "metadata": {},
   "source": [
    "#### Load in list of targets from file"
   ]
  },
  {
   "cell_type": "code",
   "execution_count": 6,
   "metadata": {},
   "outputs": [],
   "source": [
    "file = open(target_file+'.in','r') #open input file\n",
    "\n",
    "targets = [] #initialise list\n",
    "\n",
    "for line in file: #read all lines in file\n",
    "    if line[0] != '!':\n",
    "        tokens = [] \n",
    "        split = line.split()\n",
    "        \n",
    "        #extract information from line\n",
    "        for token in split:\n",
    "            tokens.append(token)\n",
    "        target = tokens[0]\n",
    "        date = tokens[1]\n",
    "        ra = tokens[2]\n",
    "        dec = tokens[3]\n",
    "        coord = SkyCoord(ra, dec) #convert RA and Dec to SkyCoord\n",
    "        win = tokens[4]\n",
    "        dur = tokens[5]\n",
    "        \n",
    "        newtarget = Target(target, date, coord, win, dur) #create new object\n",
    "        targets.append(newtarget) #add to list"
   ]
  },
  {
   "cell_type": "markdown",
   "metadata": {},
   "source": [
    "#### For each target, compute visibility from each location on each day, return result as json file"
   ]
  },
  {
   "cell_type": "code",
   "execution_count": 7,
   "metadata": {},
   "outputs": [
    {
     "name": "stdout",
     "output_type": "stream",
     "text": [
      "{'m81 UCLO 2018-09-11': True}\n",
      "{'m81 UCLO 2018-09-12': True}\n",
      "{'m81 UCLO 2018-09-13': True}\n",
      "{'m81 UCLO 2018-09-14': True}\n",
      "{'m81 UCLO 2018-09-15': True}\n",
      "{'m81 AAO 2018-09-10': False}\n",
      "{'m81 AAO 2018-09-11': False}\n",
      "{'m81 AAO 2018-09-12': False}\n",
      "{'m81 AAO 2018-09-13': False}\n",
      "{'m81 AAO 2018-09-14': False}\n"
     ]
    }
   ],
   "source": [
    "datewidth = 1.0/24/20 #define spacing of data points\n",
    "\n",
    "output = open(target_file+'.out','w') #open output file\n",
    "\n",
    "for i in range(0,len(targets)): #loop across targets\n",
    "    ymd = [int(j) for j in targets[i].date.split('-')] #extract date\n",
    "    \n",
    "    #loop across locations\n",
    "    for k in range(0, len(locations)):\n",
    "        date = dt.datetime(*ymd) - dt.timedelta(hours = locations[k].zone) #adjust date for timezone\n",
    "        j = 0 #initialise counter and loop across window\n",
    "        while j < int(targets[i].window):\n",
    "            j += 1 #increment\n",
    "            visibility = False #initialise boolean\n",
    "            \n",
    "            jd = pyasl.jdcnv(date) #find julian date\n",
    "            jd_start = jd-0.5 #start of time range\n",
    "            jd_end = jd+0.5 #end of time range\n",
    "            jds = np.arange(jd_start,jd_end, datewidth) #array of points across timerange\n",
    "            jdsub = jds-np.floor(jds[0])\n",
    "\n",
    "            #find sun position\n",
    "            sunpos = pyasl.sunpos(jd)\n",
    "            sun_ra, sun_dec = sunpos[1], sunpos[2]\n",
    "            \n",
    "            #find target and sun altazimuthal coordinates across timerange\n",
    "            targ_altaz = pyasl.eq2hor(jds, np.ones(jds.size)*targets[i].coord.ra.deg, np.ones(jds.size)*targets[i].coord.dec.deg, lat=locations[k].lati, lon=locations[k].long, alt=locations[k].alti)\n",
    "            sun_altaz = pyasl.eq2hor(jds, np.ones(jds.size)*sun_ra, np.ones(jds.size)*sun_dec, lat=locations[k].lati, lon=locations[k].long, alt=locations[k].alti)\n",
    "\n",
    "            #find visible time points\n",
    "            visible = np.where(np.logical_and(sun_altaz[0] < 0.0, targ_altaz[0] > locations[k].targ_alt))[0]\n",
    "\n",
    "            #convert number of time points to minutes\n",
    "            vis_dur_min = len(visible)*datewidth*24*60\n",
    "\n",
    "            #check if target is visible for desired duration\n",
    "            if vis_dur_min > targets[i].duration:\n",
    "                    visibility = True #set boolean\n",
    "\n",
    "            #create output line\n",
    "            new_data = {targets[i].name+' '+locations[k].loc+' '+str(date.date()) : visibility}\n",
    "            json_data = json.dumps(new_data, ensure_ascii=False) #convert to json\n",
    "            print(new_data)\n",
    "            output.write(json_data+'\\n') #write to file\n",
    "            \n",
    "            date = date + dt.timedelta(days=1) #increment date\n",
    "        \n",
    "output.close() #close file"
   ]
  },
  {
   "cell_type": "code",
   "execution_count": 8,
   "metadata": {},
   "outputs": [],
   "source": [
    "### CODE FOR EXTRACTING TIMES, NEEDS FIXING:\n",
    "### Does not currently agree with results from multipl\n",
    "\n",
    "#if not visible.size:\n",
    "    #continue\n",
    "            \n",
    "#else:   \n",
    "    #extract start of visibility\n",
    "    #vis_start = jdsub[visible][0]\n",
    "    #vs_hour = str(int(str(vis_start*24)[0])+12) #convert from JD to decimal, take first digit as hour\n",
    "    #vs_min = str(int(np.round(vis_start*24%1*60,2))) #convert from JD to decimal, take decimal, convert to minutes\n",
    "    #vs_utc_str = vs_hour+':'+vs_min\n",
    "    #vs_utc = dt.datetime.strptime(vs_utc_str, '%H:%M')\n",
    "\n",
    "    #extract end of visibility\n",
    "    #vis_end = jdsub[visible][len(jdsub[visible])-1]\n",
    "    #ve_hour = str((vis_end-0.5)*24)[0] #convert from JD to decimal, take first digit as hour\n",
    "    #ve_min = str(int(np.round(vis_end*24%1*60,2))) #convert from JD to decimal, take decimal, convert to minutes\n",
    "    #ve_utc_str = ve_hour+':'+ve_min\n",
    "    #ve_utc = dt.datetime.strptime(ve_utc_str, '%H:%M')\n",
    "\n",
    "    #vis_dur = ve_utc - vs_utc\n",
    "    #vis_dur_min = int(vis_dur.seconds / 60)"
   ]
  }
 ],
 "metadata": {
  "kernelspec": {
   "display_name": "Python 3",
   "language": "python",
   "name": "python3"
  },
  "language_info": {
   "codemirror_mode": {
    "name": "ipython",
    "version": 3
   },
   "file_extension": ".py",
   "mimetype": "text/x-python",
   "name": "python",
   "nbconvert_exporter": "python",
   "pygments_lexer": "ipython3",
   "version": "3.6.5"
  }
 },
 "nbformat": 4,
 "nbformat_minor": 2
}
